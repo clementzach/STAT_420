{
 "cells": [
  {
   "cell_type": "code",
   "execution_count": 8,
   "metadata": {},
   "outputs": [],
   "source": [
    "import pandas as pd\n",
    "import numpy as np\n",
    "import jsonlines\n",
    "import re\n",
    "import os\n",
    "from datetime import datetime\n",
    "from twython import Twython\n",
    "import json\n",
    "import pandas as pd"
   ]
  },
  {
   "cell_type": "code",
   "execution_count": 9,
   "metadata": {},
   "outputs": [],
   "source": [
    "def flatten_dict(pyobj, keystring=''): \n",
    "    if type(pyobj) == dict: \n",
    "        keystring = keystring + '_' if keystring else keystring \n",
    "        for k in pyobj: \n",
    "            yield from flatten_dict(pyobj[k], keystring + str(k)) \n",
    "    else: \n",
    "        yield keystring, pyobj "
   ]
  },
  {
   "cell_type": "code",
   "execution_count": 10,
   "metadata": {},
   "outputs": [],
   "source": [
    "def get_hashtags(hash_list):\n",
    "    hashtags = ''\n",
    "    for item in hash_list:\n",
    "        hashtags = hashtags + ' ' + item['text']\n",
    "        hashtags = hashtags.strip()\n",
    "    return hashtags"
   ]
  },
  {
   "cell_type": "code",
   "execution_count": 11,
   "metadata": {},
   "outputs": [],
   "source": [
    "key_names = ['lang', 'quoted_status_lang', 'created_at', 'id_str', 'full_text', \n",
    "             'entities_hashtags', 'entities_urls', 'entities_media',\n",
    "             'quoted_status_full_text']\n"
   ]
  },
  {
   "cell_type": "code",
   "execution_count": 12,
   "metadata": {},
   "outputs": [],
   "source": [
    "my_file = '/Volumes/LACIE_SHARE/python_scripts/Data/coronavirus-tweet-id-2020-02-01-00.jsonl'\n",
    "my_file2 = '/Volumes/LACIE_SHARE/python_scripts/Data/coronavirus-tweet-id-2020-02-01-01.jsonl'\n",
    "my_file3 = '/Volumes/LACIE_SHARE/python_scripts/Data/coronavirus-tweet-id-2020-02-01-02.jsonl'\n",
    "my_file4 = '/Volumes/LACIE_SHARE/python_scripts/Data/coronavirus-tweet-id-2020-02-01-03.jsonl'\n",
    "my_file5 = '/Volumes/LACIE_SHARE/python_scripts/Data/coronavirus-tweet-id-2020-02-01-09.jsonl'"
   ]
  },
  {
   "cell_type": "code",
   "execution_count": 15,
   "metadata": {},
   "outputs": [
    {
     "name": "stdout",
     "output_type": "stream",
     "text": [
      "Loaded 47409 records\n",
      "Loaded 94818 records\n",
      "Loaded 142227 records\n",
      "Loaded 189636 records\n",
      "Loaded 237045 records\n"
     ]
    }
   ],
   "source": [
    "data = []\n",
    "\n",
    "\n",
    "\n",
    "for file in [my_file, my_file2, my_file3, my_file4, my_file5]:\n",
    "    with jsonlines.open(my_file) as f:\n",
    "        for line in f:\n",
    "            # keep only if english and not a retweet\n",
    "            if line['lang'] == 'en':\n",
    "                data.append(dict(flatten_dict(line)))\n",
    "    print('Loaded {} records'.format(len(data)))\n",
    "\n"
   ]
  },
  {
   "cell_type": "code",
   "execution_count": 14,
   "metadata": {},
   "outputs": [
    {
     "ename": "NameError",
     "evalue": "name 'myfile' is not defined",
     "output_type": "error",
     "traceback": [
      "\u001b[0;31m---------------------------------------------------------------------------\u001b[0m",
      "\u001b[0;31mNameError\u001b[0m                                 Traceback (most recent call last)",
      "\u001b[0;32m<ipython-input-14-db00b2897b10>\u001b[0m in \u001b[0;36m<module>\u001b[0;34m\u001b[0m\n\u001b[0;32m----> 1\u001b[0;31m \u001b[0mmyfile\u001b[0m\u001b[0;34m\u001b[0m\u001b[0;34m\u001b[0m\u001b[0m\n\u001b[0m",
      "\u001b[0;31mNameError\u001b[0m: name 'myfile' is not defined"
     ]
    }
   ],
   "source": [
    "myfile"
   ]
  },
  {
   "cell_type": "code",
   "execution_count": 17,
   "metadata": {},
   "outputs": [],
   "source": [
    "## Is there any geotag information in our data?\n",
    "\n",
    "for i in range(0,1999):\n",
    "    if (data[i]['geo'] != None):\n",
    "        print(data[i]['geo'])\n",
    "    \n"
   ]
  },
  {
   "cell_type": "code",
   "execution_count": 16,
   "metadata": {},
   "outputs": [
    {
     "name": "stdout",
     "output_type": "stream",
     "text": [
      "dict_keys(['created_at', 'id', 'id_str', 'full_text', 'truncated', 'display_text_range', 'entities_hashtags', 'entities_symbols', 'entities_user_mentions', 'entities_urls', 'source', 'in_reply_to_status_id', 'in_reply_to_status_id_str', 'in_reply_to_user_id', 'in_reply_to_user_id_str', 'in_reply_to_screen_name', 'user_id', 'user_id_str', 'user_name', 'user_screen_name', 'user_location', 'user_description', 'user_url', 'user_entities_description_urls', 'user_protected', 'user_followers_count', 'user_friends_count', 'user_listed_count', 'user_created_at', 'user_favourites_count', 'user_utc_offset', 'user_time_zone', 'user_geo_enabled', 'user_verified', 'user_statuses_count', 'user_lang', 'user_contributors_enabled', 'user_is_translator', 'user_is_translation_enabled', 'user_profile_background_color', 'user_profile_background_image_url', 'user_profile_background_image_url_https', 'user_profile_background_tile', 'user_profile_image_url', 'user_profile_image_url_https', 'user_profile_banner_url', 'user_profile_image_extensions_alt_text', 'user_profile_banner_extensions_alt_text', 'user_profile_link_color', 'user_profile_sidebar_border_color', 'user_profile_sidebar_fill_color', 'user_profile_text_color', 'user_profile_use_background_image', 'user_has_extended_profile', 'user_default_profile', 'user_default_profile_image', 'user_following', 'user_follow_request_sent', 'user_notifications', 'user_translator_type', 'geo', 'coordinates', 'place', 'contributors', 'is_quote_status', 'quoted_status_id', 'quoted_status_id_str', 'quoted_status_permalink_url', 'quoted_status_permalink_expanded', 'quoted_status_permalink_display', 'retweet_count', 'favorite_count', 'favorited', 'retweeted', 'possibly_sensitive', 'lang'])\n"
     ]
    }
   ],
   "source": [
    "key_names = data[0].keys()\n",
    "print(key_names)"
   ]
  },
  {
   "cell_type": "code",
   "execution_count": 18,
   "metadata": {},
   "outputs": [],
   "source": [
    "## Will include both files because data included both\n",
    "db_data = []\n",
    "for d in data:\n",
    "    #  make the hashtags into a string with spaces between\n",
    "    if 'entities_hashtags' in d:\n",
    "        d['entities_hashtags'] = get_hashtags(d['entities_hashtags'])\n",
    "    \n",
    "    db_data.append([])\n",
    "    for col in key_names:\n",
    "        db_data[-1].append(d.get(col, ''))\n",
    "df = pd.DataFrame(db_data, columns=key_names)"
   ]
  },
  {
   "cell_type": "code",
   "execution_count": 19,
   "metadata": {},
   "outputs": [
    {
     "data": {
      "text/plain": [
       "(237045, 76)"
      ]
     },
     "execution_count": 19,
     "metadata": {},
     "output_type": "execute_result"
    }
   ],
   "source": [
    "df.shape"
   ]
  },
  {
   "cell_type": "code",
   "execution_count": 22,
   "metadata": {},
   "outputs": [
    {
     "data": {
      "text/plain": [
       "'varunkm6'"
      ]
     },
     "execution_count": 22,
     "metadata": {},
     "output_type": "execute_result"
    }
   ],
   "source": [
    "df.user_screen_name[5]"
   ]
  },
  {
   "cell_type": "code",
   "execution_count": 16,
   "metadata": {},
   "outputs": [
    {
     "data": {
      "text/plain": [
       "1223397106116788225"
      ]
     },
     "execution_count": 16,
     "metadata": {},
     "output_type": "execute_result"
    }
   ],
   "source": [
    "data[5]['id']"
   ]
  },
  {
   "cell_type": "code",
   "execution_count": 21,
   "metadata": {},
   "outputs": [],
   "source": [
    "with open('/Volumes/LACIE_SHARE/Software/spark-2.4.6-bin-hadoop2.7/twitter_api_test/twitter_credentials.json', 'r') as file:\n",
    "        creds = json.load(file)\n",
    "python_tweets = Twython(creds['CONSUMER_KEY'], creds['CONSUMER_SECRET'])\n",
    "\n"
   ]
  },
  {
   "cell_type": "code",
   "execution_count": 24,
   "metadata": {},
   "outputs": [
    {
     "name": "stdout",
     "output_type": "stream",
     "text": [
      "['@Tar0G0 @ppunpunchii อันนี้เป็นสิ่งที่เล่าให้ทุกคนฟังมาตลอด 555555 โตและเรียนมากับรอยลูกกระสุนพวกนี้จริงๆ อยู่ยังไงอยู่ยังงั้น ชอบค่ะ', '@underseaNavy 500!. I googled it! 😂', '@oakpc2002 @Violet16975590 Why don’t we just throw 1976 and 1991 as well. It’s always freaking the same thing. People vs military.', '@Violet16975590 It’s not the people against the police here. It’s the people against military. Police saw people go… https://t.co/6iv342WTdt', '@Violet16975590 The police joined protesters against the military. The coup used the Army, tanks, snipers and live… https://t.co/9TUjOj8CAG', '@nn07783169 @PollyPloy24 @lovenoey101 ได้แต่ขอให้เวรกรรมตามทันไม่ทางใดก็ทางนึงค่ะ ตอนแรกเห็นเงียบไปเราก็นึกไปในทาง… https://t.co/tESHgBgb8a', '@ThaiPBS เคยอ่านงานวิจัยผู้ติดเชื้อของจีน แต่จำนวนเคสที่ศึกษามีไม่มากค่ะตอนนั้น น่าจะไม่กี่ร้อยเคส เค้าบอกว่าไม่สาม… https://t.co/IVydn4WV5J', '@thidakarn ถ้าคนไหนที่กินฟ้าทะลายโจรต่อเนื่องแล้วเป็นผื่นคัน ลองหยุดกินดูซักพักนะคะ เป็นมาแล้วค่ะผื่นคันเพราะว่ากิน… https://t.co/HKJBrxR1qg', '@mthai เท่าที่ตามอ่านข่าวนะคะ การฉีดวัคซีนจะแบ่งเป็น 2 ขั้นตอนใหญ่ๆก็คือ ดูว่าปลอดภัยหรือเปล่าและสามารถป้องกันได้จ… https://t.co/MkEFEAPHeh']\n",
      "['@DeerBarber @BasilioG3 And for the records, I never said it wasn’t a big deal in terms of the outbreak, I meant it… https://t.co/BXRaU0ijSv', '@DeerBarber @BasilioG3 Well...it’s still 2.13%\\nAs I said before somewhere I know it’s extremely contagious, but not… https://t.co/Xxanw9ONnI', '@BashCaroline @cet6biguo @Visualjump @WHO @DrTedros @WHOWPRO @WHOSEARO @WHO_Europe @pahowho @WHOEMRO @WHOAFRO What… https://t.co/zm9N1XTKo9', '@BashCaroline @cet6biguo @Visualjump @WHO @DrTedros @WHOWPRO @WHOSEARO @WHO_Europe @pahowho @WHOEMRO @WHOAFRO There… https://t.co/5hF1MwmhFB', '@marco_madmaxjs @BashCaroline @TimTim081 @WHO @DrTedros @WHOWPRO @WHOSEARO @WHO_Europe @pahowho @WHOEMRO @WHOAFRO A… https://t.co/1ROFMHrex8', '@mstk @LiangRhea You know what, you’re right. I’m going to go back to sleep now. Goodnight', '@mstk @LiangRhea If the virus was originated there, certainly. I myself do not go near one of my colleagues who jus… https://t.co/EvyJ8IFyTt', '@mstk @LiangRhea They were afraid to shake hands because of the virus not because of the race.', '@marco_madmaxjs @TimTim081 @WHO @DrTedros @WHOWPRO @WHOSEARO @WHO_Europe @pahowho @WHOEMRO @WHOAFRO Totally agreed.… https://t.co/3Lh0w3aWH6', '@marco_madmaxjs @TimTim081 @WHO @DrTedros @WHOWPRO @WHOSEARO @WHO_Europe @pahowho @WHOEMRO @WHOAFRO I kind of have… https://t.co/impXlYFpmX']\n"
     ]
    }
   ],
   "source": [
    "## Can we get the recent tweets from a user?\n",
    "covid_tweet_id = data[5]['id']\n",
    "\n",
    "pre_user_timeline = python_tweets.get_user_timeline(screen_name=data[3]['user_screen_name'], count = 10, max_id = covid_tweet_id)\n",
    "\n",
    "\n",
    "pre_tweet_dict = {'user': [], 'date': [], 'text':[], 'favorite_count':[], 'tweetid':[]}\n",
    "for status in pre_user_timeline: ##Store these in the dictionary\n",
    "            pre_tweet_dict['user'].append(status['user']['screen_name'])\n",
    "            pre_tweet_dict['favorite_count'].append(status['favorite_count'])\n",
    "            pre_tweet_dict['text'].append(status['text'])\n",
    "            pre_tweet_dict['date'].append(status['created_at'])\n",
    "            pre_tweet_dict['tweetid'].append(status['id'])\n",
    "            \n",
    "post_user_timeline = python_tweets.get_user_timeline(screen_name=data[3]['user_screen_name'], count = 10, min_id = covid_tweet_id)\n",
    "\n",
    "\n",
    "post_tweet_dict = {'user': [], 'date': [], 'text':[], 'favorite_count':[], 'tweetid':[]}\n",
    "for status in post_user_timeline: ##Store these in the dictionary\n",
    "            post_tweet_dict['user'].append(status['user']['screen_name'])\n",
    "            post_tweet_dict['favorite_count'].append(status['favorite_count'])\n",
    "            post_tweet_dict['text'].append(status['text'])\n",
    "            post_tweet_dict['date'].append(status['created_at'])\n",
    "            post_tweet_dict['tweetid'].append(status['id'])\n",
    "            \n",
    "\n",
    "print(post_tweet_dict['text'])\n",
    "print(pre_tweet_dict['text'])"
   ]
  },
  {
   "cell_type": "code",
   "execution_count": 24,
   "metadata": {},
   "outputs": [
    {
     "data": {
      "text/plain": [
       "{'user': ['Linniethepita',\n",
       "  'Linniethepita',\n",
       "  'Linniethepita',\n",
       "  'Linniethepita',\n",
       "  'Linniethepita',\n",
       "  'Linniethepita',\n",
       "  'Linniethepita',\n",
       "  'Linniethepita',\n",
       "  'Linniethepita',\n",
       "  'Linniethepita'],\n",
       " 'date': ['Sat Jul 11 08:35:19 +0000 2020',\n",
       "  'Sun May 31 09:31:11 +0000 2020',\n",
       "  'Sun May 31 06:39:45 +0000 2020',\n",
       "  'Sun May 31 06:30:53 +0000 2020',\n",
       "  'Wed Apr 29 06:29:32 +0000 2020',\n",
       "  'Mon Apr 13 17:37:56 +0000 2020',\n",
       "  'Sun Mar 29 05:58:49 +0000 2020',\n",
       "  'Wed Mar 18 12:01:31 +0000 2020',\n",
       "  'Wed Mar 18 11:50:22 +0000 2020',\n",
       "  'Wed Mar 18 02:14:04 +0000 2020'],\n",
       " 'text': ['@underseaNavy 500!. I googled it! 😂',\n",
       "  '@oakpc2002 @Violet16975590 Why don’t we just throw 1976 and 1991 as well. It’s always freaking the same thing. People vs military.',\n",
       "  '@Violet16975590 It’s not the people against the police here. It’s the people against military. Police saw people go… https://t.co/6iv342WTdt',\n",
       "  '@Violet16975590 The police joined protesters against the military. The coup used the Army, tanks, snipers and live… https://t.co/9TUjOj8CAG',\n",
       "  '@nn07783169 @PollyPloy24 @lovenoey101 ได้แต่ขอให้เวรกรรมตามทันไม่ทางใดก็ทางนึงค่ะ ตอนแรกเห็นเงียบไปเราก็นึกไปในทาง… https://t.co/tESHgBgb8a',\n",
       "  '@ThaiPBS เคยอ่านงานวิจัยผู้ติดเชื้อของจีน แต่จำนวนเคสที่ศึกษามีไม่มากค่ะตอนนั้น น่าจะไม่กี่ร้อยเคส เค้าบอกว่าไม่สาม… https://t.co/IVydn4WV5J',\n",
       "  '@thidakarn ถ้าคนไหนที่กินฟ้าทะลายโจรต่อเนื่องแล้วเป็นผื่นคัน ลองหยุดกินดูซักพักนะคะ เป็นมาแล้วค่ะผื่นคันเพราะว่ากิน… https://t.co/HKJBrxR1qg',\n",
       "  '@mthai เท่าที่ตามอ่านข่าวนะคะ การฉีดวัคซีนจะแบ่งเป็น 2 ขั้นตอนใหญ่ๆก็คือ ดูว่าปลอดภัยหรือเปล่าและสามารถป้องกันได้จ… https://t.co/MkEFEAPHeh',\n",
       "  '@puthpianista ขอแชร์ประสบการณ์ส่วนตัวแล้วกันนะคะ กินฟ้าทะลายโจรมาหลายปีแล้ว จะกินเฉพาะตอนที่รู้สึกว่าวันรุ่งขึ้นจะ… https://t.co/i0rcOXwSHU',\n",
       "  \"@ChinaScience I think we've used this drugs (with other drugs as well) to treat patients in Thailand for a while no… https://t.co/YT6dpyAZw2\"],\n",
       " 'favorite_count': [0, 0, 1, 1, 1, 2, 3, 1, 1, 2],\n",
       " 'tweetid': [1281869667686989825,\n",
       "  1267025823153836033,\n",
       "  1266982681197244417,\n",
       "  1266980449244467202,\n",
       "  1255383698804965381,\n",
       "  1249753699846516739,\n",
       "  1244141943698776065,\n",
       "  1240246954702950400,\n",
       "  1240244148327690240,\n",
       "  1240099119760166912]}"
      ]
     },
     "execution_count": 24,
     "metadata": {},
     "output_type": "execute_result"
    }
   ],
   "source": [
    "tweet_dict.keys()"
   ]
  },
  {
   "cell_type": "code",
   "execution_count": 25,
   "metadata": {},
   "outputs": [
    {
     "name": "stdout",
     "output_type": "stream",
     "text": [
      "0\n"
     ]
    }
   ],
   "source": [
    "### How many of the people they follow are mutuals?\n",
    "current_user_name = data[5][\"user_screen_name\"]\n",
    "\n",
    "follower_list = []\n",
    "\n",
    "next_cursor = -1\n",
    "\n",
    "while (next_cursor):\n",
    "    user_follower_list = python_tweets.get_followers_list(screen_name = current_user_name, count = 200, cursor = next_cursor)\n",
    "    next_cursor = user_follower_list['next_cursor']\n",
    "    print(next_cursor)\n",
    "    for user in user_follower_list['users']:\n",
    "        follower_list.append(user['screen_name'])\n",
    "\n",
    "\n",
    "\n"
   ]
  },
  {
   "cell_type": "code",
   "execution_count": 26,
   "metadata": {},
   "outputs": [
    {
     "name": "stdout",
     "output_type": "stream",
     "text": [
      "1650667663980023823\n",
      "0\n"
     ]
    }
   ],
   "source": [
    "following_list = []\n",
    "\n",
    "next_cursor = -1\n",
    "\n",
    "while(next_cursor): ## will be zero when we get to the end\n",
    "    user_following_list = python_tweets.get_friends_list(screen_name = current_user_name, count = 200, cursor = next_cursor)\n",
    "    next_cursor = user_following_list['next_cursor']\n",
    "    print(next_cursor)\n",
    "    for user in user_following_list['users']:\n",
    "        following_list.append(user['screen_name'])\n",
    "\n",
    "\n",
    "    "
   ]
  },
  {
   "cell_type": "code",
   "execution_count": 27,
   "metadata": {},
   "outputs": [
    {
     "data": {
      "text/plain": [
       "298"
      ]
     },
     "execution_count": 27,
     "metadata": {},
     "output_type": "execute_result"
    }
   ],
   "source": [
    "len(following_list)\n"
   ]
  },
  {
   "cell_type": "code",
   "execution_count": 28,
   "metadata": {},
   "outputs": [
    {
     "data": {
      "text/plain": [
       "43"
      ]
     },
     "execution_count": 28,
     "metadata": {},
     "output_type": "execute_result"
    }
   ],
   "source": [
    "len(follower_list)\n"
   ]
  },
  {
   "cell_type": "code",
   "execution_count": 29,
   "metadata": {},
   "outputs": [],
   "source": [
    "mutuals_list = list(set(following_list) & set(follower_list))"
   ]
  },
  {
   "cell_type": "code",
   "execution_count": 30,
   "metadata": {},
   "outputs": [
    {
     "data": {
      "text/plain": [
       "11"
      ]
     },
     "execution_count": 30,
     "metadata": {},
     "output_type": "execute_result"
    }
   ],
   "source": [
    "len(mutuals_list)"
   ]
  },
  {
   "cell_type": "code",
   "execution_count": 72,
   "metadata": {},
   "outputs": [
    {
     "name": "stdout",
     "output_type": "stream",
     "text": [
      "1668929260011288767\n",
      "1658989162346664684\n",
      "1632528552194136112\n",
      "1619123260177824017\n",
      "1610078298643690827\n",
      "1602422611077069778\n",
      "1596915621987771019\n",
      "1592973248723863718\n",
      "1589814472980413312\n",
      "1585881171025853909\n",
      "1581511163261876080\n",
      "1575306043346467657\n",
      "1569296179055611404\n",
      "1563302035620236940\n",
      "1555722992947794091\n",
      "1545823433070593990\n",
      "1537402789045084525\n",
      "1520021812275441964\n",
      "1507409775911117732\n",
      "1495359380025447014\n",
      "1484106602810104571\n",
      "1473803821521253732\n",
      "0\n",
      "1666034306272620065\n",
      "1665325217324339841\n",
      "1621751744586253567\n",
      "1612294900955752870\n",
      "1605960554288654242\n",
      "1598894157086953131\n",
      "1594479332164682867\n",
      "1591562674157968853\n",
      "1588035247000454545\n",
      "1584146148742731974\n",
      "1579241608519710375\n",
      "1573523009591818722\n",
      "1567025703682131986\n",
      "1561205368662386805\n",
      "1552593423412066354\n",
      "1542535321222548891\n",
      "1532961044406242668\n",
      "1508669622756338640\n",
      "1497054938341802094\n",
      "1485007464409005189\n",
      "1473966069764853273\n",
      "0\n",
      "1673663916083994556\n",
      "1668688081686312310\n",
      "1665503871379902372\n",
      "1661561782746322247\n",
      "1657393896191472106\n",
      "1654942763252902853\n"
     ]
    },
    {
     "ename": "TwythonRateLimitError",
     "evalue": "Twitter API returned a 429 (Too Many Requests), Rate limit exceeded",
     "output_type": "error",
     "traceback": [
      "\u001b[0;31m---------------------------------------------------------------------------\u001b[0m",
      "\u001b[0;31mTwythonRateLimitError\u001b[0m                     Traceback (most recent call last)",
      "\u001b[0;32m<ipython-input-72-09fcfa45d464>\u001b[0m in \u001b[0;36m<module>\u001b[0;34m\u001b[0m\n\u001b[1;32m     17\u001b[0m \u001b[0;34m\u001b[0m\u001b[0m\n\u001b[1;32m     18\u001b[0m     \u001b[0;32mwhile\u001b[0m \u001b[0;34m(\u001b[0m\u001b[0mnext_cursor\u001b[0m\u001b[0;34m)\u001b[0m\u001b[0;34m:\u001b[0m\u001b[0;34m\u001b[0m\u001b[0;34m\u001b[0m\u001b[0m\n\u001b[0;32m---> 19\u001b[0;31m         \u001b[0muser_follower_list\u001b[0m \u001b[0;34m=\u001b[0m \u001b[0mpython_tweets\u001b[0m\u001b[0;34m.\u001b[0m\u001b[0mget_followers_list\u001b[0m\u001b[0;34m(\u001b[0m\u001b[0mscreen_name\u001b[0m \u001b[0;34m=\u001b[0m \u001b[0mcurrent_user_name\u001b[0m\u001b[0;34m,\u001b[0m \u001b[0mcount\u001b[0m \u001b[0;34m=\u001b[0m \u001b[0;36m200\u001b[0m\u001b[0;34m,\u001b[0m \u001b[0mcursor\u001b[0m \u001b[0;34m=\u001b[0m \u001b[0mnext_cursor\u001b[0m\u001b[0;34m)\u001b[0m\u001b[0;34m\u001b[0m\u001b[0;34m\u001b[0m\u001b[0m\n\u001b[0m\u001b[1;32m     20\u001b[0m         \u001b[0mnext_cursor\u001b[0m \u001b[0;34m=\u001b[0m \u001b[0muser_follower_list\u001b[0m\u001b[0;34m[\u001b[0m\u001b[0;34m'next_cursor'\u001b[0m\u001b[0;34m]\u001b[0m\u001b[0;34m\u001b[0m\u001b[0;34m\u001b[0m\u001b[0m\n\u001b[1;32m     21\u001b[0m         \u001b[0mprint\u001b[0m\u001b[0;34m(\u001b[0m\u001b[0mnext_cursor\u001b[0m\u001b[0;34m)\u001b[0m\u001b[0;34m\u001b[0m\u001b[0;34m\u001b[0m\u001b[0m\n",
      "\u001b[0;32m/Volumes/LACIE_SHARE/Software/anaconda3/lib/python3.8/site-packages/twython/endpoints.py\u001b[0m in \u001b[0;36mget_followers_list\u001b[0;34m(self, **params)\u001b[0m\n\u001b[1;32m    474\u001b[0m \u001b[0;34m\u001b[0m\u001b[0m\n\u001b[1;32m    475\u001b[0m         \"\"\"\n\u001b[0;32m--> 476\u001b[0;31m         \u001b[0;32mreturn\u001b[0m \u001b[0mself\u001b[0m\u001b[0;34m.\u001b[0m\u001b[0mget\u001b[0m\u001b[0;34m(\u001b[0m\u001b[0;34m'followers/list'\u001b[0m\u001b[0;34m,\u001b[0m \u001b[0mparams\u001b[0m\u001b[0;34m=\u001b[0m\u001b[0mparams\u001b[0m\u001b[0;34m)\u001b[0m\u001b[0;34m\u001b[0m\u001b[0;34m\u001b[0m\u001b[0m\n\u001b[0m\u001b[1;32m    477\u001b[0m     \u001b[0mget_followers_list\u001b[0m\u001b[0;34m.\u001b[0m\u001b[0miter_mode\u001b[0m \u001b[0;34m=\u001b[0m \u001b[0;34m'cursor'\u001b[0m\u001b[0;34m\u001b[0m\u001b[0;34m\u001b[0m\u001b[0m\n\u001b[1;32m    478\u001b[0m     \u001b[0mget_followers_list\u001b[0m\u001b[0;34m.\u001b[0m\u001b[0miter_key\u001b[0m \u001b[0;34m=\u001b[0m \u001b[0;34m'users'\u001b[0m\u001b[0;34m\u001b[0m\u001b[0;34m\u001b[0m\u001b[0m\n",
      "\u001b[0;32m/Volumes/LACIE_SHARE/Software/anaconda3/lib/python3.8/site-packages/twython/api.py\u001b[0m in \u001b[0;36mget\u001b[0;34m(self, endpoint, params, version)\u001b[0m\n\u001b[1;32m    276\u001b[0m     \u001b[0;32mdef\u001b[0m \u001b[0mget\u001b[0m\u001b[0;34m(\u001b[0m\u001b[0mself\u001b[0m\u001b[0;34m,\u001b[0m \u001b[0mendpoint\u001b[0m\u001b[0;34m,\u001b[0m \u001b[0mparams\u001b[0m\u001b[0;34m=\u001b[0m\u001b[0;32mNone\u001b[0m\u001b[0;34m,\u001b[0m \u001b[0mversion\u001b[0m\u001b[0;34m=\u001b[0m\u001b[0;34m'1.1'\u001b[0m\u001b[0;34m)\u001b[0m\u001b[0;34m:\u001b[0m\u001b[0;34m\u001b[0m\u001b[0;34m\u001b[0m\u001b[0m\n\u001b[1;32m    277\u001b[0m         \u001b[0;34m\"\"\"Shortcut for GET requests via :class:`request`\"\"\"\u001b[0m\u001b[0;34m\u001b[0m\u001b[0;34m\u001b[0m\u001b[0m\n\u001b[0;32m--> 278\u001b[0;31m         \u001b[0;32mreturn\u001b[0m \u001b[0mself\u001b[0m\u001b[0;34m.\u001b[0m\u001b[0mrequest\u001b[0m\u001b[0;34m(\u001b[0m\u001b[0mendpoint\u001b[0m\u001b[0;34m,\u001b[0m \u001b[0mparams\u001b[0m\u001b[0;34m=\u001b[0m\u001b[0mparams\u001b[0m\u001b[0;34m,\u001b[0m \u001b[0mversion\u001b[0m\u001b[0;34m=\u001b[0m\u001b[0mversion\u001b[0m\u001b[0;34m)\u001b[0m\u001b[0;34m\u001b[0m\u001b[0;34m\u001b[0m\u001b[0m\n\u001b[0m\u001b[1;32m    279\u001b[0m \u001b[0;34m\u001b[0m\u001b[0m\n\u001b[1;32m    280\u001b[0m     \u001b[0;32mdef\u001b[0m \u001b[0mpost\u001b[0m\u001b[0;34m(\u001b[0m\u001b[0mself\u001b[0m\u001b[0;34m,\u001b[0m \u001b[0mendpoint\u001b[0m\u001b[0;34m,\u001b[0m \u001b[0mparams\u001b[0m\u001b[0;34m=\u001b[0m\u001b[0;32mNone\u001b[0m\u001b[0;34m,\u001b[0m \u001b[0mversion\u001b[0m\u001b[0;34m=\u001b[0m\u001b[0;34m'1.1'\u001b[0m\u001b[0;34m,\u001b[0m \u001b[0mjson_encoded\u001b[0m\u001b[0;34m=\u001b[0m\u001b[0;32mFalse\u001b[0m\u001b[0;34m)\u001b[0m\u001b[0;34m:\u001b[0m\u001b[0;34m\u001b[0m\u001b[0;34m\u001b[0m\u001b[0m\n",
      "\u001b[0;32m/Volumes/LACIE_SHARE/Software/anaconda3/lib/python3.8/site-packages/twython/api.py\u001b[0m in \u001b[0;36mrequest\u001b[0;34m(self, endpoint, method, params, version, json_encoded)\u001b[0m\n\u001b[1;32m    269\u001b[0m             \u001b[0murl\u001b[0m \u001b[0;34m=\u001b[0m \u001b[0;34m'%s/%s.json'\u001b[0m \u001b[0;34m%\u001b[0m \u001b[0;34m(\u001b[0m\u001b[0mself\u001b[0m\u001b[0;34m.\u001b[0m\u001b[0mapi_url\u001b[0m \u001b[0;34m%\u001b[0m \u001b[0mversion\u001b[0m\u001b[0;34m,\u001b[0m \u001b[0mendpoint\u001b[0m\u001b[0;34m)\u001b[0m\u001b[0;34m\u001b[0m\u001b[0;34m\u001b[0m\u001b[0m\n\u001b[1;32m    270\u001b[0m \u001b[0;34m\u001b[0m\u001b[0m\n\u001b[0;32m--> 271\u001b[0;31m         content = self._request(url, method=method, params=params,\n\u001b[0m\u001b[1;32m    272\u001b[0m                                 api_call=url, json_encoded=json_encoded)\n\u001b[1;32m    273\u001b[0m \u001b[0;34m\u001b[0m\u001b[0m\n",
      "\u001b[0;32m/Volumes/LACIE_SHARE/Software/anaconda3/lib/python3.8/site-packages/twython/api.py\u001b[0m in \u001b[0;36m_request\u001b[0;34m(self, url, method, params, api_call, json_encoded)\u001b[0m\n\u001b[1;32m    199\u001b[0m                 \u001b[0mExceptionType\u001b[0m \u001b[0;34m=\u001b[0m \u001b[0mTwythonAuthError\u001b[0m\u001b[0;34m\u001b[0m\u001b[0;34m\u001b[0m\u001b[0m\n\u001b[1;32m    200\u001b[0m \u001b[0;34m\u001b[0m\u001b[0m\n\u001b[0;32m--> 201\u001b[0;31m             raise ExceptionType(\n\u001b[0m\u001b[1;32m    202\u001b[0m                 \u001b[0merror_message\u001b[0m\u001b[0;34m,\u001b[0m\u001b[0;34m\u001b[0m\u001b[0;34m\u001b[0m\u001b[0m\n\u001b[1;32m    203\u001b[0m                 \u001b[0merror_code\u001b[0m\u001b[0;34m=\u001b[0m\u001b[0mresponse\u001b[0m\u001b[0;34m.\u001b[0m\u001b[0mstatus_code\u001b[0m\u001b[0;34m,\u001b[0m\u001b[0;34m\u001b[0m\u001b[0;34m\u001b[0m\u001b[0m\n",
      "\u001b[0;31mTwythonRateLimitError\u001b[0m: Twitter API returned a 429 (Too Many Requests), Rate limit exceeded"
     ]
    }
   ],
   "source": [
    "##Now, let's put it together to get the mutuals for any user. \n",
    "## will send too many requests so don't run that\n",
    "\n",
    "list_of_followers = [[]]\n",
    "\n",
    "list_of_friends = [[]]\n",
    "\n",
    "list_of_screen_names = []\n",
    "\n",
    "list_of_mutuals = [[]]\n",
    "\n",
    "for i in range(0, 10):\n",
    "    current_user_name = data[i][\"user_screen_name\"]\n",
    "\n",
    "    follower_list = []\n",
    "\n",
    "    next_cursor = -1\n",
    "\n",
    "    while (next_cursor):\n",
    "        user_follower_list = python_tweets.get_followers_list(screen_name = current_user_name, count = 200, cursor = next_cursor)\n",
    "        next_cursor = user_follower_list['next_cursor']\n",
    "        print(next_cursor)\n",
    "        for user in user_follower_list['users']:\n",
    "            follower_list.append(user['screen_name'])\n",
    "    \n",
    "    list_of_followers.append(follower_list)\n",
    "    \n",
    "    following_list = []\n",
    "\n",
    "    next_cursor = -1\n",
    "\n",
    "    while(next_cursor): ## will be zero when we get to the end\n",
    "        user_following_list = python_tweets.get_friends_list(screen_name = current_user_name, count = 200, cursor = next_cursor)\n",
    "        next_cursor = user_following_list['next_cursor']\n",
    "        print(next_cursor)\n",
    "        for user in user_following_list['users']:\n",
    "            following_list.append(user['screen_name'])\n",
    "    list_of_friends.append(following_list)\n",
    "    \n",
    "    mutuals_list = list(set(following_list) & set(follower_list))\n",
    "    \n",
    "    list_of_mutuals.append(mutuals_list)\n",
    "    \n",
    "    list_of_screen_names.append(current_user_name)\n",
    "    \n",
    "\n"
   ]
  },
  {
   "cell_type": "code",
   "execution_count": 34,
   "metadata": {},
   "outputs": [
    {
     "ename": "KeyboardInterrupt",
     "evalue": "",
     "output_type": "error",
     "traceback": [
      "\u001b[0;31m---------------------------------------------------------------------------\u001b[0m",
      "\u001b[0;31mKeyboardInterrupt\u001b[0m                         Traceback (most recent call last)",
      "\u001b[0;32m<ipython-input-34-75653718b37b>\u001b[0m in \u001b[0;36m<module>\u001b[0;34m\u001b[0m\n\u001b[1;32m      8\u001b[0m \u001b[0;32mfor\u001b[0m \u001b[0mi\u001b[0m \u001b[0;32min\u001b[0m \u001b[0mrange\u001b[0m\u001b[0;34m(\u001b[0m\u001b[0;36m0\u001b[0m\u001b[0;34m,\u001b[0m \u001b[0mdf\u001b[0m\u001b[0;34m.\u001b[0m\u001b[0mshape\u001b[0m\u001b[0;34m[\u001b[0m\u001b[0;36m0\u001b[0m\u001b[0;34m]\u001b[0m\u001b[0;34m)\u001b[0m\u001b[0;34m:\u001b[0m\u001b[0;34m\u001b[0m\u001b[0;34m\u001b[0m\u001b[0m\n\u001b[1;32m      9\u001b[0m     \u001b[0;32mif\u001b[0m\u001b[0;34m(\u001b[0m\u001b[0mdf\u001b[0m\u001b[0;34m.\u001b[0m\u001b[0muser_screen_name\u001b[0m\u001b[0;34m[\u001b[0m\u001b[0mi\u001b[0m\u001b[0;34m]\u001b[0m \u001b[0;32min\u001b[0m \u001b[0muser_list\u001b[0m\u001b[0;34m)\u001b[0m\u001b[0;34m:\u001b[0m\u001b[0;34m\u001b[0m\u001b[0;34m\u001b[0m\u001b[0m\n\u001b[0;32m---> 10\u001b[0;31m         \u001b[0mnumber_list\u001b[0m\u001b[0;34m[\u001b[0m\u001b[0muser_list\u001b[0m\u001b[0;34m.\u001b[0m\u001b[0mindex\u001b[0m\u001b[0;34m(\u001b[0m\u001b[0mdf\u001b[0m\u001b[0;34m.\u001b[0m\u001b[0muser_screen_name\u001b[0m\u001b[0;34m[\u001b[0m\u001b[0mi\u001b[0m\u001b[0;34m]\u001b[0m\u001b[0;34m)\u001b[0m\u001b[0;34m]\u001b[0m \u001b[0;34m+=\u001b[0m \u001b[0;36m1\u001b[0m\u001b[0;34m\u001b[0m\u001b[0;34m\u001b[0m\u001b[0m\n\u001b[0m\u001b[1;32m     11\u001b[0m     \u001b[0;32melse\u001b[0m\u001b[0;34m:\u001b[0m\u001b[0;34m\u001b[0m\u001b[0;34m\u001b[0m\u001b[0m\n\u001b[1;32m     12\u001b[0m         \u001b[0mnumber_list\u001b[0m\u001b[0;34m.\u001b[0m\u001b[0mappend\u001b[0m\u001b[0;34m(\u001b[0m\u001b[0;36m1\u001b[0m\u001b[0;34m)\u001b[0m\u001b[0;34m\u001b[0m\u001b[0;34m\u001b[0m\u001b[0m\n",
      "\u001b[0;31mKeyboardInterrupt\u001b[0m: "
     ]
    }
   ],
   "source": [
    "## Finding which users made the most tweets\n",
    "\n",
    "\n",
    "\n",
    "user_list = []\n",
    "number_list = []\n",
    "\n",
    "for i in range(0, df.shape[0]):\n",
    "    if(df.user_screen_name[i] in user_list):\n",
    "        number_list[user_list.index(df.user_screen_name[i])] += 1\n",
    "    else:\n",
    "        number_list.append(1)\n",
    "        user_list.append(df.user_screen_name[i])\n",
    "    if (i % 1000 == 0):\n",
    "        print(i)\n",
    "        \n",
    "        \n",
    "tweets_by_user = pd.DataFrame({'user': user_list, 'number': number_list})\n",
    "\n",
    "\n",
    "\n",
    "tweets_by_user.sort_values(by='number', axis=0, ascending=False, \n",
    "                           inplace=True)\n",
    "\n",
    "print(tweets_by_user[0:20])\n",
    "\n",
    "\n",
    "\n"
   ]
  },
  {
   "cell_type": "code",
   "execution_count": 38,
   "metadata": {},
   "outputs": [
    {
     "name": "stdout",
     "output_type": "stream",
     "text": [
      "(36875, 2)\n",
      "                  user  number\n",
      "12839   avenger_naren2     132\n",
      "10519    YanHongkonger     113\n",
      "1413   BaronianConsult     111\n",
      "1485         QuitCheng     105\n",
      "808          viriyabot      98\n",
      "523         adsertoris      96\n",
      "117        sinnieloves      93\n",
      "18914          SavehkH      87\n",
      "3509    NikolayShubin1      87\n",
      "10395          Puixxx1      76\n",
      "19054         xsutingx      76\n",
      "232      Iceholiccream      76\n",
      "63          VitaminKLo      72\n",
      "10300     JoJo53859628      68\n",
      "5164     Gabriellayes2      64\n",
      "11002       COVID19USA      63\n",
      "12669    realllllcindy      60\n",
      "10366   DavidMikeHarry      57\n",
      "12036    john1966olsen      54\n",
      "12612      BCquakehelp      54\n"
     ]
    }
   ],
   "source": [
    "print(tweets_by_user.shape)\n",
    "tweets_by_user = pd.DataFrame({'user': user_list, 'number': number_list})\n",
    "tweets_by_user.sort_values(by='number', axis=0, ascending=False, \n",
    "                           inplace=True)\n",
    "print(tweets_by_user[0:20])"
   ]
  },
  {
   "cell_type": "code",
   "execution_count": 40,
   "metadata": {},
   "outputs": [
    {
     "data": {
      "text/plain": [
       "121473"
      ]
     },
     "execution_count": 40,
     "metadata": {},
     "output_type": "execute_result"
    }
   ],
   "source": [
    "i"
   ]
  },
  {
   "cell_type": "code",
   "execution_count": 39,
   "metadata": {},
   "outputs": [
    {
     "name": "stdout",
     "output_type": "stream",
     "text": [
      "8\n",
      "True\n",
      "True\n"
     ]
    }
   ],
   "source": [
    "user_list = ['me', 'you', 'her']\n",
    "number_list = [3, 5, 6]\n",
    "number_list[user_list.index('her')] += 2\n",
    "\n",
    "\n",
    "print(number_list[user_list.index('her')])\n",
    "\n",
    "print('me' in user_list)\n",
    "print('her' in user_list)\n",
    "\n",
    "\n"
   ]
  },
  {
   "cell_type": "code",
   "execution_count": 39,
   "metadata": {},
   "outputs": [
    {
     "data": {
      "text/plain": [
       "'<a href=\"http://twitter.com/download/android\" rel=\"nofollow\">Twitter for Android</a>'"
      ]
     },
     "execution_count": 39,
     "metadata": {},
     "output_type": "execute_result"
    }
   ],
   "source": [
    "df.source[0]\n",
    "\n",
    "\n"
   ]
  },
  {
   "cell_type": "code",
   "execution_count": 42,
   "metadata": {},
   "outputs": [
    {
     "name": "stdout",
     "output_type": "stream",
     "text": [
      "                                             platform  number\n",
      "0   <a href=\"http://twitter.com/download/android\" ...     324\n",
      "1   <a href=\"http://twitter.com/download/iphone\" r...     408\n",
      "2   <a href=\"https://mobile.twitter.com\" rel=\"nofo...     157\n",
      "3   <a href=\"http://twitter.com/#!/download/ipad\" ...      36\n",
      "4   <a href=\"http://www.grouptweet.com\" rel=\"nofol...       1\n",
      "5   <a href=\"http://english.yonhapnews.co.kr\" rel=...       1\n",
      "6   <a href=\"http://tapbots.com/tweetbot\" rel=\"nof...       3\n",
      "7   <a href=\"http://twitter.com\" rel=\"nofollow\">Tw...      17\n",
      "8   <a href=\"http://thin.air\" rel=\"nofollow\">gener...       1\n",
      "9   <a href=\"https://about.twitter.com/products/tw...       7\n",
      "10  <a href=\"http://www.tweetcaster.com\" rel=\"nofo...       1\n",
      "11  <a href=\"http://www.samruston.co.uk\" rel=\"nofo...       1\n",
      "12  <a href=\"https://ifttt.com\" rel=\"nofollow\">IFT...       1\n",
      "13  <a href=\"https://thetop10news.com/\" rel=\"nofol...       1\n",
      "14  <a href=\"https://malco.io\" rel=\"nofollow\">epi_...       1\n",
      "15  <a href=\"https://dlvrit.com/\" rel=\"nofollow\">d...      13\n",
      "16  <a href=\"http://poshmark.com/\" rel=\"nofollow\">...       1\n",
      "17  <a href=\"http://publicpool.kinja.com\" rel=\"nof...       1\n",
      "18  <a href=\"http://twosheeep.com\" rel=\"nofollow\">...       1\n",
      "19  <a href=\"http://goalse.com\" rel=\"nofollow\">Goa...       1\n",
      "20  <a href=\"http://news.ycombinator.com\" rel=\"nof...       1\n",
      "21  <a href=\"http://www.DynamicTweets.com\" rel=\"no...       1\n",
      "22  <a href=\"https://twitterrific.com/ios\" rel=\"no...       1\n",
      "23  <a href=\"http://bitcoinagile.com\" rel=\"nofollo...       1\n",
      "24  <a href=\"https://www.naijareports.com\" rel=\"no...       1\n",
      "25  <a href=\"https://duffydibley.com\" rel=\"nofollo...       1\n",
      "26  <a href=\"http://www.salesforce.com\" rel=\"nofol...       1\n",
      "27  <a href=\"http://publicize.wp.com/\" rel=\"nofoll...       4\n",
      "28  <a href=\"https://periscope.tv\" rel=\"nofollow\">...       1\n",
      "29  <a href=\"http://www.socialnewsdesk.com\" rel=\"n...       2\n",
      "30  <a href=\"http://www.hubspot.com/\" rel=\"nofollo...       1\n",
      "31  <a href=\"http://twibble.io\" rel=\"nofollow\">Twi...       1\n",
      "32  <a href=\"http://www.coosto.com\" rel=\"nofollow\"...       1\n",
      "33  <a href=\"http://www.tobeannounced.com\" rel=\"no...       1\n",
      "34  <a href=\"https://twitter.com/ViRiYaBOT\" rel=\"n...       1\n",
      "35  <a href=\"http://www.powerapps.com\" rel=\"nofoll...       4\n"
     ]
    }
   ],
   "source": [
    "## How many users are tweeting from different platforms\n",
    "platform_list = []\n",
    "number_list = []\n",
    "\n",
    "for i in range(0, 1000):\n",
    "    if(df.source[i] in platform_list):\n",
    "        number_list[platform_list.index(df.source[i])] += 1\n",
    "    else:\n",
    "        number_list.append(1)\n",
    "        platform_list.append(df.source[i])\n",
    "        \n",
    "        \n",
    "tweets_by_source = pd.DataFrame({'platform': platform_list, 'number': number_list})\n",
    "\n",
    "\n",
    "\n",
    "tweets_by_user.sort_values(by='number', axis=0, ascending=False, \n",
    "                          inplace=True)\n",
    "\n",
    "print(tweets_by_source)\n",
    "\n"
   ]
  },
  {
   "cell_type": "code",
   "execution_count": 43,
   "metadata": {},
   "outputs": [
    {
     "name": "stdout",
     "output_type": "stream",
     "text": [
      "                                             platform  number\n",
      "1   <a href=\"http://twitter.com/download/iphone\" r...     408\n",
      "0   <a href=\"http://twitter.com/download/android\" ...     324\n",
      "2   <a href=\"https://mobile.twitter.com\" rel=\"nofo...     157\n",
      "3   <a href=\"http://twitter.com/#!/download/ipad\" ...      36\n",
      "7   <a href=\"http://twitter.com\" rel=\"nofollow\">Tw...      17\n",
      "15  <a href=\"https://dlvrit.com/\" rel=\"nofollow\">d...      13\n",
      "9   <a href=\"https://about.twitter.com/products/tw...       7\n",
      "27  <a href=\"http://publicize.wp.com/\" rel=\"nofoll...       4\n",
      "35  <a href=\"http://www.powerapps.com\" rel=\"nofoll...       4\n",
      "6   <a href=\"http://tapbots.com/tweetbot\" rel=\"nof...       3\n",
      "29  <a href=\"http://www.socialnewsdesk.com\" rel=\"n...       2\n",
      "8   <a href=\"http://thin.air\" rel=\"nofollow\">gener...       1\n",
      "23  <a href=\"http://bitcoinagile.com\" rel=\"nofollo...       1\n",
      "34  <a href=\"https://twitter.com/ViRiYaBOT\" rel=\"n...       1\n",
      "33  <a href=\"http://www.tobeannounced.com\" rel=\"no...       1\n",
      "32  <a href=\"http://www.coosto.com\" rel=\"nofollow\"...       1\n",
      "31  <a href=\"http://twibble.io\" rel=\"nofollow\">Twi...       1\n",
      "30  <a href=\"http://www.hubspot.com/\" rel=\"nofollo...       1\n",
      "28  <a href=\"https://periscope.tv\" rel=\"nofollow\">...       1\n",
      "4   <a href=\"http://www.grouptweet.com\" rel=\"nofol...       1\n",
      "26  <a href=\"http://www.salesforce.com\" rel=\"nofol...       1\n",
      "25  <a href=\"https://duffydibley.com\" rel=\"nofollo...       1\n",
      "24  <a href=\"https://www.naijareports.com\" rel=\"no...       1\n",
      "22  <a href=\"https://twitterrific.com/ios\" rel=\"no...       1\n",
      "10  <a href=\"http://www.tweetcaster.com\" rel=\"nofo...       1\n",
      "21  <a href=\"http://www.DynamicTweets.com\" rel=\"no...       1\n",
      "20  <a href=\"http://news.ycombinator.com\" rel=\"nof...       1\n",
      "19  <a href=\"http://goalse.com\" rel=\"nofollow\">Goa...       1\n",
      "5   <a href=\"http://english.yonhapnews.co.kr\" rel=...       1\n",
      "17  <a href=\"http://publicpool.kinja.com\" rel=\"nof...       1\n",
      "16  <a href=\"http://poshmark.com/\" rel=\"nofollow\">...       1\n",
      "14  <a href=\"https://malco.io\" rel=\"nofollow\">epi_...       1\n",
      "13  <a href=\"https://thetop10news.com/\" rel=\"nofol...       1\n",
      "12  <a href=\"https://ifttt.com\" rel=\"nofollow\">IFT...       1\n",
      "11  <a href=\"http://www.samruston.co.uk\" rel=\"nofo...       1\n",
      "18  <a href=\"http://twosheeep.com\" rel=\"nofollow\">...       1\n"
     ]
    }
   ],
   "source": [
    "tweets_by_source.sort_values(by='number', axis=0, ascending=False, \n",
    "                          inplace=True)\n",
    "\n",
    "print(tweets_by_source)"
   ]
  },
  {
   "cell_type": "code",
   "execution_count": null,
   "metadata": {},
   "outputs": [],
   "source": []
  }
 ],
 "metadata": {
  "kernelspec": {
   "display_name": "Python 3",
   "language": "python",
   "name": "python3"
  },
  "language_info": {
   "codemirror_mode": {
    "name": "ipython",
    "version": 3
   },
   "file_extension": ".py",
   "mimetype": "text/x-python",
   "name": "python",
   "nbconvert_exporter": "python",
   "pygments_lexer": "ipython3",
   "version": "3.8.5"
  }
 },
 "nbformat": 4,
 "nbformat_minor": 2
}
